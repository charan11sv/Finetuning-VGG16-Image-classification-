{
 "cells": [
  {
   "cell_type": "code",
   "execution_count": 12,
   "id": "94c06920",
   "metadata": {},
   "outputs": [],
   "source": [
    "# Import the libraries\n",
    "from tensorflow.keras.preprocessing import image\n",
    "from tensorflow.keras.applications.vgg16 import VGG16, preprocess_input\n",
    "from tensorflow.keras.models import Model\n",
    "from pathlib import Path\n",
    "from PIL import Image\n",
    "import matplotlib.pyplot as plt\n",
    "import numpy as np\n",
    "import tempfile \n",
    "import os\n",
    "import keras\n",
    "from tensorflow.keras.preprocessing.image import ImageDataGenerator\n",
    "import splitfolders\n",
    "from keras.preprocessing.image import ImageDataGenerator\n",
    "import pandas as pd\n",
    "from keras.applications import VGG16\n",
    "from tensorflow.keras.preprocessing import image\n",
    "from sklearn.model_selection import train_test_split\n",
    "import cv2\n",
    "import shutil\n",
    "from keras.applications.vgg16 import decode_predictions\n",
    "from keras import losses"
   ]
  },
  {
   "cell_type": "code",
   "execution_count": 8,
   "id": "b0a2e0d6",
   "metadata": {},
   "outputs": [],
   "source": [
    "train=pd.read_csv(r\"C:\\Users\\Dell\\Documents\\projects\\image search engine\\trainval.csv\")"
   ]
  },
  {
   "cell_type": "markdown",
   "id": "51046140",
   "metadata": {},
   "source": [
    "### loading the training dataset"
   ]
  },
  {
   "cell_type": "code",
   "execution_count": 2,
   "id": "278a2302",
   "metadata": {},
   "outputs": [
    {
     "ename": "NameError",
     "evalue": "name 'test' is not defined",
     "output_type": "error",
     "traceback": [
      "\u001b[1;31m---------------------------------------------------------------------------\u001b[0m",
      "\u001b[1;31mNameError\u001b[0m                                 Traceback (most recent call last)",
      "Cell \u001b[1;32mIn[2], line 1\u001b[0m\n\u001b[1;32m----> 1\u001b[0m \u001b[43mtest\u001b[49m\u001b[38;5;241m.\u001b[39mcolumns\n",
      "\u001b[1;31mNameError\u001b[0m: name 'test' is not defined"
     ]
    }
   ],
   "source": [
    "test.columns"
   ]
  },
  {
   "cell_type": "code",
   "execution_count": 10,
   "id": "bc6e8d08",
   "metadata": {},
   "outputs": [],
   "source": [
    "test=pd.read_csv(r\"C:\\Users\\Dell\\Documents\\projects\\image search engine\\test.csv\")"
   ]
  },
  {
   "cell_type": "markdown",
   "id": "2cd96070",
   "metadata": {},
   "source": [
    "### loading the test dataset"
   ]
  },
  {
   "cell_type": "code",
   "execution_count": 11,
   "id": "c91f67b3",
   "metadata": {},
   "outputs": [],
   "source": [
    "train.rename(columns={'Abyssinian_100':'name','1':'id','1.1':'species','1.2':'breed'},inplace=True)"
   ]
  },
  {
   "cell_type": "code",
   "execution_count": 12,
   "id": "86a38f67",
   "metadata": {},
   "outputs": [],
   "source": [
    "test.rename(columns={'Abyssinian_201':'name','1':'id','1.1':'species','1.2':'breed'},inplace=True)"
   ]
  },
  {
   "cell_type": "code",
   "execution_count": 13,
   "id": "68ea9aa7",
   "metadata": {},
   "outputs": [
    {
     "data": {
      "text/html": [
       "<div>\n",
       "<style scoped>\n",
       "    .dataframe tbody tr th:only-of-type {\n",
       "        vertical-align: middle;\n",
       "    }\n",
       "\n",
       "    .dataframe tbody tr th {\n",
       "        vertical-align: top;\n",
       "    }\n",
       "\n",
       "    .dataframe thead th {\n",
       "        text-align: right;\n",
       "    }\n",
       "</style>\n",
       "<table border=\"1\" class=\"dataframe\">\n",
       "  <thead>\n",
       "    <tr style=\"text-align: right;\">\n",
       "      <th></th>\n",
       "      <th>name</th>\n",
       "      <th>id</th>\n",
       "      <th>species</th>\n",
       "      <th>breed</th>\n",
       "    </tr>\n",
       "  </thead>\n",
       "  <tbody>\n",
       "    <tr>\n",
       "      <th>1894</th>\n",
       "      <td>Abyssinian_1</td>\n",
       "      <td>1</td>\n",
       "      <td>1</td>\n",
       "      <td>1</td>\n",
       "    </tr>\n",
       "    <tr>\n",
       "      <th>9</th>\n",
       "      <td>Abyssinian_10</td>\n",
       "      <td>1</td>\n",
       "      <td>1</td>\n",
       "      <td>1</td>\n",
       "    </tr>\n",
       "    <tr>\n",
       "      <th>0</th>\n",
       "      <td>Abyssinian_101</td>\n",
       "      <td>1</td>\n",
       "      <td>1</td>\n",
       "      <td>1</td>\n",
       "    </tr>\n",
       "    <tr>\n",
       "      <th>1</th>\n",
       "      <td>Abyssinian_102</td>\n",
       "      <td>1</td>\n",
       "      <td>1</td>\n",
       "      <td>1</td>\n",
       "    </tr>\n",
       "    <tr>\n",
       "      <th>2</th>\n",
       "      <td>Abyssinian_103</td>\n",
       "      <td>1</td>\n",
       "      <td>1</td>\n",
       "      <td>1</td>\n",
       "    </tr>\n",
       "    <tr>\n",
       "      <th>...</th>\n",
       "      <td>...</td>\n",
       "      <td>...</td>\n",
       "      <td>...</td>\n",
       "      <td>...</td>\n",
       "    </tr>\n",
       "    <tr>\n",
       "      <th>3662</th>\n",
       "      <td>yorkshire_terrier_95</td>\n",
       "      <td>37</td>\n",
       "      <td>2</td>\n",
       "      <td>25</td>\n",
       "    </tr>\n",
       "    <tr>\n",
       "      <th>3663</th>\n",
       "      <td>yorkshire_terrier_96</td>\n",
       "      <td>37</td>\n",
       "      <td>2</td>\n",
       "      <td>25</td>\n",
       "    </tr>\n",
       "    <tr>\n",
       "      <th>3664</th>\n",
       "      <td>yorkshire_terrier_97</td>\n",
       "      <td>37</td>\n",
       "      <td>2</td>\n",
       "      <td>25</td>\n",
       "    </tr>\n",
       "    <tr>\n",
       "      <th>3665</th>\n",
       "      <td>yorkshire_terrier_98</td>\n",
       "      <td>37</td>\n",
       "      <td>2</td>\n",
       "      <td>25</td>\n",
       "    </tr>\n",
       "    <tr>\n",
       "      <th>3666</th>\n",
       "      <td>yorkshire_terrier_99</td>\n",
       "      <td>37</td>\n",
       "      <td>2</td>\n",
       "      <td>25</td>\n",
       "    </tr>\n",
       "  </tbody>\n",
       "</table>\n",
       "<p>7347 rows × 4 columns</p>\n",
       "</div>"
      ],
      "text/plain": [
       "                      name  id  species  breed\n",
       "1894          Abyssinian_1   1        1      1\n",
       "9            Abyssinian_10   1        1      1\n",
       "0           Abyssinian_101   1        1      1\n",
       "1           Abyssinian_102   1        1      1\n",
       "2           Abyssinian_103   1        1      1\n",
       "...                    ...  ..      ...    ...\n",
       "3662  yorkshire_terrier_95  37        2     25\n",
       "3663  yorkshire_terrier_96  37        2     25\n",
       "3664  yorkshire_terrier_97  37        2     25\n",
       "3665  yorkshire_terrier_98  37        2     25\n",
       "3666  yorkshire_terrier_99  37        2     25\n",
       "\n",
       "[7347 rows x 4 columns]"
      ]
     },
     "execution_count": 13,
     "metadata": {},
     "output_type": "execute_result"
    }
   ],
   "source": [
    "new=pd.concat([train,test])\n",
    "new=new.sort_values(by='name')\n",
    "new"
   ]
  },
  {
   "cell_type": "code",
   "execution_count": 14,
   "id": "6e765837",
   "metadata": {},
   "outputs": [],
   "source": [
    "y=new['breed'].copy()"
   ]
  },
  {
   "cell_type": "code",
   "execution_count": 15,
   "id": "b87a6e20",
   "metadata": {},
   "outputs": [],
   "source": [
    "x_train, x_test, y_train, y_test = train_test_split(new, y, test_size=0.2, random_state=42)"
   ]
  },
  {
   "cell_type": "code",
   "execution_count": 16,
   "id": "4d25cc9a",
   "metadata": {},
   "outputs": [],
   "source": [
    "x_test, x_val, y_test, y_val = train_test_split(x_test, y_test, test_size=0.5, random_state=42)"
   ]
  },
  {
   "cell_type": "code",
   "execution_count": 17,
   "id": "07b14760",
   "metadata": {},
   "outputs": [],
   "source": [
    "datagen = ImageDataGenerator(width_shift_range=0.2,          \n",
    "                    height_shift_range=0.2, \n",
    "                    rotation_range=120, \n",
    "                    horizontal_flip=True,\n",
    "                    vertical_flip=True,\n",
    "                    zoom_range = 0.2,\n",
    "                    shear_range= 0.2)\n",
    "val_datagen = ImageDataGenerator() \n",
    "test_datagen = ImageDataGenerator()"
   ]
  },
  {
   "cell_type": "markdown",
   "id": "14812fdd",
   "metadata": {},
   "source": [
    "### Used Imagedatagenerator for Image augmentation"
   ]
  },
  {
   "cell_type": "code",
   "execution_count": 18,
   "id": "3dd4a793",
   "metadata": {},
   "outputs": [
    {
     "name": "stdout",
     "output_type": "stream",
     "text": [
      "Found 5875 images belonging to 37 classes.\n",
      "Found 735 images belonging to 37 classes.\n",
      "Found 733 images belonging to 37 classes.\n"
     ]
    }
   ],
   "source": [
    "train_generator = datagen.flow_from_directory(\n",
    "    \"C:\\\\Users\\\\Dell\\\\Documents\\\\projects\\\\image search engine\\\\oxford-iiit-pet\\\\images.tar\\\\images\\\\train\",\n",
    "    target_size=(224, 224),\n",
    "    batch_size=32,\n",
    "    class_mode='categorical'\n",
    ")\n",
    "\n",
    "val_generator = val_datagen.flow_from_directory(\n",
    "    \"C:\\\\Users\\\\Dell\\\\Documents\\\\projects\\\\image search engine\\\\oxford-iiit-pet\\\\images.tar\\\\images\\\\val\",\n",
    "    target_size=(224,224),\n",
    "    batch_size=32,\n",
    "    class_mode='categorical'\n",
    ")  \n",
    "\n",
    "# Test the model on a few samples\n",
    "test_generator = val_datagen.flow_from_directory(\n",
    "    \"C:\\\\Users\\\\Dell\\\\Documents\\\\projects\\\\image search engine\\\\oxford-iiit-pet\\\\images.tar\\\\images\\\\test\",\n",
    "    target_size=(224,224),\n",
    "    batch_size=1,\n",
    "    class_mode='categorical', \n",
    "    shuffle=False\n",
    ")"
   ]
  },
  {
   "cell_type": "code",
   "execution_count": 34,
   "id": "3551b34c",
   "metadata": {},
   "outputs": [
    {
     "data": {
      "text/plain": [
       "keras.src.preprocessing.image.DirectoryIterator"
      ]
     },
     "execution_count": 34,
     "metadata": {},
     "output_type": "execute_result"
    }
   ],
   "source": [
    "type(train_generator)"
   ]
  },
  {
   "cell_type": "code",
   "execution_count": 49,
   "id": "600db41f",
   "metadata": {},
   "outputs": [
    {
     "name": "stdout",
     "output_type": "stream",
     "text": [
      "Model: \"model_5\"\n",
      "____________________________________________________________________________\n",
      " Layer (type)                Output Shape              Param #   Trainable  \n",
      "============================================================================\n",
      " input_16 (InputLayer)       [(None, 224, 224, 3)]     0         Y          \n",
      "                                                                            \n",
      " vgg16 (Functional)          (None, 7, 7, 512)         1471468   N          \n",
      "                                                       8                    \n",
      "                                                                            \n",
      " global_average_pooling2d_8  (None, 512)               0         Y          \n",
      "  (GlobalAveragePooling2D)                                                  \n",
      "                                                                            \n",
      " dropout_11 (Dropout)        (None, 512)               0         Y          \n",
      "                                                                            \n",
      " dense_11 (Dense)            (None, 180)               92340     Y          \n",
      "                                                                            \n",
      " dropout_12 (Dropout)        (None, 180)               0         Y          \n",
      "                                                                            \n",
      " dense_12 (Dense)            (None, 120)               21720     Y          \n",
      "                                                                            \n",
      " dropout_13 (Dropout)        (None, 120)               0         Y          \n",
      "                                                                            \n",
      " dense_13 (Dense)            (None, 60)                7260      Y          \n",
      "                                                                            \n",
      " dropout_14 (Dropout)        (None, 60)                0         Y          \n",
      "                                                                            \n",
      " dense_14 (Dense)            (None, 37)                2257      Y          \n",
      "                                                                            \n",
      "============================================================================\n",
      "Total params: 14838265 (56.60 MB)\n",
      "Trainable params: 123577 (482.72 KB)\n",
      "Non-trainable params: 14714688 (56.13 MB)\n",
      "____________________________________________________________________________\n"
     ]
    }
   ],
   "source": [
    "base_model = VGG16(weights='imagenet', include_top=False, input_shape=(224, 224, 3))\n",
    "base_model.trainable = False\n",
    "inputs = keras.Input(shape=(224, 224, 3))\n",
    "x = base_model(inputs, training=False)\n",
    "x = keras.layers.GlobalAveragePooling2D()(x)\n",
    "x = keras.layers.Dropout(0.2)(x)  \n",
    "x = keras.layers.Dense(180,activation='relu')(x)\n",
    "x = keras.layers.Dropout(0.2)(x) \n",
    "x = keras.layers.Dense(120,activation='relu')(x)\n",
    "x = keras.layers.Dropout(0.2)(x)\n",
    "x = keras.layers.Dense(60,activation='relu')(x)\n",
    "x = keras.layers.Dropout(0.2)(x) \n",
    "outputs = keras.layers.Dense(37,activation='softmax')(x)\n",
    "model = keras.Model(inputs, outputs)\n",
    "\n",
    "model.summary(show_trainable=True)"
   ]
  },
  {
   "cell_type": "markdown",
   "id": "8a6f73d6",
   "metadata": {},
   "source": [
    "#### 1. We'll have vgg16 with imagenet weights as the base layer without including the top layer. We'll set the training as 'False' at first so that we wont affect its weights. \n",
    "#### 2. Then we'll add multiple sets of dense, drop-out, pooling layers to this with training parameter set as true. These will have activation function as 'relu'.\n",
    "#### 3. Then finally we'll add a 37 neutron dense layer with 'softmax' as activation for our final prediction."
   ]
  },
  {
   "cell_type": "code",
   "execution_count": 50,
   "id": "9996fe70",
   "metadata": {},
   "outputs": [
    {
     "name": "stdout",
     "output_type": "stream",
     "text": [
      "Fitting the top layer of the model\n",
      "Epoch 1/50\n",
      "184/184 [==============================] - 1022s 6s/step - loss: 3.8186 - categorical_accuracy: 0.0409 - val_loss: 3.2547 - val_categorical_accuracy: 0.1238\n",
      "Epoch 2/50\n",
      "184/184 [==============================] - 994s 5s/step - loss: 3.3424 - categorical_accuracy: 0.0870 - val_loss: 2.4456 - val_categorical_accuracy: 0.2694\n",
      "Epoch 3/50\n",
      "184/184 [==============================] - 993s 5s/step - loss: 2.9532 - categorical_accuracy: 0.1515 - val_loss: 2.0001 - val_categorical_accuracy: 0.3497\n",
      "Epoch 4/50\n",
      "184/184 [==============================] - 992s 5s/step - loss: 2.6839 - categorical_accuracy: 0.2082 - val_loss: 1.6755 - val_categorical_accuracy: 0.4626\n",
      "Epoch 5/50\n",
      "184/184 [==============================] - 992s 5s/step - loss: 2.5475 - categorical_accuracy: 0.2420 - val_loss: 1.5729 - val_categorical_accuracy: 0.4680\n",
      "Epoch 6/50\n",
      "184/184 [==============================] - 992s 5s/step - loss: 2.4003 - categorical_accuracy: 0.2810 - val_loss: 1.4405 - val_categorical_accuracy: 0.5279\n",
      "Epoch 7/50\n",
      "184/184 [==============================] - 993s 5s/step - loss: 2.3476 - categorical_accuracy: 0.2940 - val_loss: 1.4022 - val_categorical_accuracy: 0.5238\n",
      "Epoch 8/50\n",
      "184/184 [==============================] - 1004s 5s/step - loss: 2.2544 - categorical_accuracy: 0.3076 - val_loss: 1.3179 - val_categorical_accuracy: 0.5619\n",
      "Epoch 9/50\n",
      "184/184 [==============================] - 992s 5s/step - loss: 2.2130 - categorical_accuracy: 0.3256 - val_loss: 1.2729 - val_categorical_accuracy: 0.5646\n",
      "Epoch 10/50\n",
      "184/184 [==============================] - 992s 5s/step - loss: 2.1719 - categorical_accuracy: 0.3391 - val_loss: 1.2547 - val_categorical_accuracy: 0.5673\n",
      "Epoch 11/50\n",
      "184/184 [==============================] - 1000s 5s/step - loss: 2.1130 - categorical_accuracy: 0.3530 - val_loss: 1.2143 - val_categorical_accuracy: 0.5837\n",
      "Epoch 12/50\n",
      "184/184 [==============================] - 1004s 5s/step - loss: 2.0982 - categorical_accuracy: 0.3586 - val_loss: 1.1762 - val_categorical_accuracy: 0.6014\n",
      "Epoch 13/50\n",
      "184/184 [==============================] - 995s 5s/step - loss: 2.0835 - categorical_accuracy: 0.3719 - val_loss: 1.1392 - val_categorical_accuracy: 0.6177\n",
      "Epoch 14/50\n",
      "184/184 [==============================] - 992s 5s/step - loss: 2.0179 - categorical_accuracy: 0.3786 - val_loss: 1.1132 - val_categorical_accuracy: 0.6231\n",
      "Epoch 15/50\n",
      "184/184 [==============================] - 992s 5s/step - loss: 2.0268 - categorical_accuracy: 0.3767 - val_loss: 1.1162 - val_categorical_accuracy: 0.6218\n",
      "Epoch 16/50\n",
      "184/184 [==============================] - 992s 5s/step - loss: 2.0020 - categorical_accuracy: 0.3908 - val_loss: 1.0621 - val_categorical_accuracy: 0.6395\n",
      "Epoch 17/50\n",
      "184/184 [==============================] - 994s 5s/step - loss: 1.9862 - categorical_accuracy: 0.4046 - val_loss: 1.0971 - val_categorical_accuracy: 0.6190\n",
      "Epoch 18/50\n",
      "184/184 [==============================] - 992s 5s/step - loss: 1.9812 - categorical_accuracy: 0.4075 - val_loss: 1.1322 - val_categorical_accuracy: 0.6163\n",
      "Epoch 19/50\n",
      "184/184 [==============================] - 1005s 5s/step - loss: 1.9574 - categorical_accuracy: 0.4078 - val_loss: 1.0279 - val_categorical_accuracy: 0.6272\n",
      "Epoch 20/50\n",
      "184/184 [==============================] - 993s 5s/step - loss: 1.9193 - categorical_accuracy: 0.4111 - val_loss: 1.0677 - val_categorical_accuracy: 0.6231\n",
      "Epoch 21/50\n",
      "184/184 [==============================] - 1000s 5s/step - loss: 1.9269 - categorical_accuracy: 0.4237 - val_loss: 1.0566 - val_categorical_accuracy: 0.6340\n",
      "Epoch 22/50\n",
      "184/184 [==============================] - 1006s 5s/step - loss: 1.9028 - categorical_accuracy: 0.4197 - val_loss: 1.0311 - val_categorical_accuracy: 0.6476\n",
      "Epoch 23/50\n",
      "184/184 [==============================] - 991s 5s/step - loss: 1.8896 - categorical_accuracy: 0.4291 - val_loss: 1.0290 - val_categorical_accuracy: 0.6381\n",
      "Epoch 24/50\n",
      "184/184 [==============================] - 993s 5s/step - loss: 1.8835 - categorical_accuracy: 0.4247 - val_loss: 1.0075 - val_categorical_accuracy: 0.6367\n",
      "Epoch 25/50\n",
      "184/184 [==============================] - 994s 5s/step - loss: 1.8833 - categorical_accuracy: 0.4317 - val_loss: 1.0596 - val_categorical_accuracy: 0.6313\n",
      "Epoch 26/50\n",
      "184/184 [==============================] - 1002s 5s/step - loss: 1.8625 - categorical_accuracy: 0.4351 - val_loss: 1.0086 - val_categorical_accuracy: 0.6762\n",
      "Epoch 27/50\n",
      "184/184 [==============================] - 992s 5s/step - loss: 1.8464 - categorical_accuracy: 0.4351 - val_loss: 1.0187 - val_categorical_accuracy: 0.6422\n",
      "Epoch 28/50\n",
      "184/184 [==============================] - 992s 5s/step - loss: 1.8393 - categorical_accuracy: 0.4494 - val_loss: 0.9617 - val_categorical_accuracy: 0.6680\n",
      "Epoch 29/50\n",
      "184/184 [==============================] - 992s 5s/step - loss: 1.8180 - categorical_accuracy: 0.4441 - val_loss: 0.9956 - val_categorical_accuracy: 0.6748\n",
      "Epoch 30/50\n",
      "184/184 [==============================] - 997s 5s/step - loss: 1.8258 - categorical_accuracy: 0.4458 - val_loss: 1.0150 - val_categorical_accuracy: 0.6762\n",
      "Epoch 31/50\n",
      "184/184 [==============================] - 991s 5s/step - loss: 1.8156 - categorical_accuracy: 0.4528 - val_loss: 0.9993 - val_categorical_accuracy: 0.6558\n",
      "Epoch 32/50\n",
      "184/184 [==============================] - 991s 5s/step - loss: 1.8090 - categorical_accuracy: 0.4546 - val_loss: 0.9903 - val_categorical_accuracy: 0.6721\n",
      "Epoch 33/50\n",
      "184/184 [==============================] - 992s 5s/step - loss: 1.8162 - categorical_accuracy: 0.4504 - val_loss: 0.9745 - val_categorical_accuracy: 0.6544\n",
      "Epoch 34/50\n",
      "184/184 [==============================] - 1001s 5s/step - loss: 1.8062 - categorical_accuracy: 0.4477 - val_loss: 1.0065 - val_categorical_accuracy: 0.6476\n",
      "Epoch 35/50\n",
      "184/184 [==============================] - 998s 5s/step - loss: 1.8273 - categorical_accuracy: 0.4538 - val_loss: 0.9897 - val_categorical_accuracy: 0.6912\n",
      "Epoch 36/50\n",
      "184/184 [==============================] - 998s 5s/step - loss: 1.7678 - categorical_accuracy: 0.4752 - val_loss: 0.9593 - val_categorical_accuracy: 0.6721\n",
      "Epoch 37/50\n",
      "184/184 [==============================] - 999s 5s/step - loss: 1.7848 - categorical_accuracy: 0.4691 - val_loss: 0.9575 - val_categorical_accuracy: 0.6844\n",
      "Epoch 38/50\n",
      "184/184 [==============================] - 994s 5s/step - loss: 1.7780 - categorical_accuracy: 0.4609 - val_loss: 0.9267 - val_categorical_accuracy: 0.6993\n",
      "Epoch 39/50\n",
      "184/184 [==============================] - 995s 5s/step - loss: 1.7778 - categorical_accuracy: 0.4611 - val_loss: 0.9534 - val_categorical_accuracy: 0.6857\n",
      "Epoch 40/50\n",
      "184/184 [==============================] - 995s 5s/step - loss: 1.7739 - categorical_accuracy: 0.4667 - val_loss: 0.9596 - val_categorical_accuracy: 0.6680\n",
      "Epoch 41/50\n",
      "184/184 [==============================] - 999s 5s/step - loss: 1.7663 - categorical_accuracy: 0.4608 - val_loss: 0.9763 - val_categorical_accuracy: 0.6721\n",
      "Epoch 42/50\n",
      "184/184 [==============================] - 997s 5s/step - loss: 1.7470 - categorical_accuracy: 0.4771 - val_loss: 0.9672 - val_categorical_accuracy: 0.6789\n",
      "Epoch 43/50\n",
      "184/184 [==============================] - 995s 5s/step - loss: 1.7363 - categorical_accuracy: 0.4791 - val_loss: 0.9612 - val_categorical_accuracy: 0.6680\n",
      "Epoch 44/50\n",
      "184/184 [==============================] - 994s 5s/step - loss: 1.7512 - categorical_accuracy: 0.4752 - val_loss: 0.9650 - val_categorical_accuracy: 0.6680\n",
      "Epoch 45/50\n",
      "184/184 [==============================] - 999s 5s/step - loss: 1.7785 - categorical_accuracy: 0.4655 - val_loss: 0.9234 - val_categorical_accuracy: 0.7020\n",
      "Epoch 46/50\n",
      "184/184 [==============================] - 994s 5s/step - loss: 1.7417 - categorical_accuracy: 0.4778 - val_loss: 0.9276 - val_categorical_accuracy: 0.6884\n",
      "Epoch 47/50\n",
      "184/184 [==============================] - 994s 5s/step - loss: 1.7403 - categorical_accuracy: 0.4740 - val_loss: 0.9456 - val_categorical_accuracy: 0.6980\n",
      "Epoch 48/50\n",
      "184/184 [==============================] - 998s 5s/step - loss: 1.7291 - categorical_accuracy: 0.4854 - val_loss: 0.9312 - val_categorical_accuracy: 0.6816\n",
      "Epoch 49/50\n",
      "184/184 [==============================] - 997s 5s/step - loss: 1.7459 - categorical_accuracy: 0.4797 - val_loss: 0.9228 - val_categorical_accuracy: 0.6952\n",
      "Epoch 50/50\n",
      "184/184 [==============================] - 991s 5s/step - loss: 1.6997 - categorical_accuracy: 0.4803 - val_loss: 0.9268 - val_categorical_accuracy: 0.6966\n"
     ]
    },
    {
     "data": {
      "text/plain": [
       "<keras.src.callbacks.History at 0x1d624317a30>"
      ]
     },
     "execution_count": 50,
     "metadata": {},
     "output_type": "execute_result"
    }
   ],
   "source": [
    "model.compile(\n",
    "    optimizer=keras.optimizers.Adam(0.001),\n",
    "    loss=\"categorical_crossentropy\",\n",
    "    metrics=[keras.metrics.CategoricalAccuracy()],\n",
    ")\n",
    "\n",
    "epochs = 50\n",
    "print(\"Fitting the top layer of the model\")\n",
    "model.fit(train_generator, epochs=epochs, validation_data=val_generator)"
   ]
  },
  {
   "cell_type": "markdown",
   "id": "bd494a8b",
   "metadata": {},
   "source": [
    "### We'll adjust the extended layer first with 50 epochs. The training starts with cross entropy loss of 3.2547, categorical accuracy 0.1238 and ends with val_cross_entropy_loss: 0.9268 - val_categorical_accuracy: 0.6966 which is a great improvement.  "
   ]
  },
  {
   "cell_type": "code",
   "execution_count": 52,
   "id": "77d60100",
   "metadata": {},
   "outputs": [],
   "source": [
    "model.save(\"C:\\\\Users\\\\Dell\\\\Documents\\\\projects\\\\image search engine\\\\img_model1.keras\")"
   ]
  },
  {
   "cell_type": "code",
   "execution_count": 8,
   "id": "2498956c",
   "metadata": {},
   "outputs": [],
   "source": [
    "#### Saving the intermediate model"
   ]
  },
  {
   "cell_type": "code",
   "execution_count": 53,
   "id": "accbdc76",
   "metadata": {},
   "outputs": [
    {
     "name": "stdout",
     "output_type": "stream",
     "text": [
      "Model: \"model_5\"\n",
      "____________________________________________________________________________\n",
      " Layer (type)                Output Shape              Param #   Trainable  \n",
      "============================================================================\n",
      " input_16 (InputLayer)       [(None, 224, 224, 3)]     0         Y          \n",
      "                                                                            \n",
      " vgg16 (Functional)          (None, 7, 7, 512)         1471468   Y          \n",
      "                                                       8                    \n",
      "                                                                            \n",
      " global_average_pooling2d_8  (None, 512)               0         Y          \n",
      "  (GlobalAveragePooling2D)                                                  \n",
      "                                                                            \n",
      " dropout_11 (Dropout)        (None, 512)               0         Y          \n",
      "                                                                            \n",
      " dense_11 (Dense)            (None, 180)               92340     Y          \n",
      "                                                                            \n",
      " dropout_12 (Dropout)        (None, 180)               0         Y          \n",
      "                                                                            \n",
      " dense_12 (Dense)            (None, 120)               21720     Y          \n",
      "                                                                            \n",
      " dropout_13 (Dropout)        (None, 120)               0         Y          \n",
      "                                                                            \n",
      " dense_13 (Dense)            (None, 60)                7260      Y          \n",
      "                                                                            \n",
      " dropout_14 (Dropout)        (None, 60)                0         Y          \n",
      "                                                                            \n",
      " dense_14 (Dense)            (None, 37)                2257      Y          \n",
      "                                                                            \n",
      "============================================================================\n",
      "Total params: 14838265 (56.60 MB)\n",
      "Trainable params: 14838265 (56.60 MB)\n",
      "Non-trainable params: 0 (0.00 Byte)\n",
      "____________________________________________________________________________\n",
      "Fitting the end-to-end model\n",
      "Epoch 1/50\n",
      "184/184 [==============================] - 4045s 22s/step - loss: 1.6101 - categorical_accuracy: 0.5154 - val_loss: 0.8620 - val_categorical_accuracy: 0.7102\n",
      "Epoch 2/50\n",
      "184/184 [==============================] - 4034s 22s/step - loss: 1.4709 - categorical_accuracy: 0.5551 - val_loss: 0.7725 - val_categorical_accuracy: 0.7401\n",
      "Epoch 3/50\n",
      "184/184 [==============================] - 4036s 22s/step - loss: 1.3780 - categorical_accuracy: 0.5804 - val_loss: 0.7626 - val_categorical_accuracy: 0.7361\n",
      "Epoch 4/50\n",
      "184/184 [==============================] - 4044s 22s/step - loss: 1.3400 - categorical_accuracy: 0.5852 - val_loss: 0.8429 - val_categorical_accuracy: 0.7075\n",
      "Epoch 5/50\n",
      "184/184 [==============================] - 4044s 22s/step - loss: 1.2664 - categorical_accuracy: 0.6036 - val_loss: 0.7677 - val_categorical_accuracy: 0.7388\n",
      "Epoch 6/50\n",
      "184/184 [==============================] - 4032s 22s/step - loss: 1.2382 - categorical_accuracy: 0.6136 - val_loss: 0.7147 - val_categorical_accuracy: 0.7605\n",
      "Epoch 7/50\n",
      "184/184 [==============================] - 4025s 22s/step - loss: 1.1881 - categorical_accuracy: 0.6216 - val_loss: 0.7284 - val_categorical_accuracy: 0.7592\n",
      "Epoch 8/50\n",
      "184/184 [==============================] - 4051s 22s/step - loss: 1.1716 - categorical_accuracy: 0.6313 - val_loss: 0.7444 - val_categorical_accuracy: 0.7551\n",
      "Epoch 9/50\n",
      "184/184 [==============================] - 4061s 22s/step - loss: 1.1602 - categorical_accuracy: 0.6390 - val_loss: 0.7130 - val_categorical_accuracy: 0.7728\n",
      "Epoch 10/50\n",
      "184/184 [==============================] - 4036s 22s/step - loss: 1.1389 - categorical_accuracy: 0.6415 - val_loss: 0.7013 - val_categorical_accuracy: 0.7810\n",
      "Epoch 11/50\n",
      "184/184 [==============================] - 4272s 23s/step - loss: 1.0972 - categorical_accuracy: 0.6550 - val_loss: 0.7190 - val_categorical_accuracy: 0.7633\n",
      "Epoch 12/50\n",
      "184/184 [==============================] - 4131s 22s/step - loss: 1.0610 - categorical_accuracy: 0.6616 - val_loss: 0.7148 - val_categorical_accuracy: 0.7619\n",
      "Epoch 13/50\n",
      "184/184 [==============================] - 4056s 22s/step - loss: 1.0652 - categorical_accuracy: 0.6621 - val_loss: 0.6817 - val_categorical_accuracy: 0.7782\n",
      "Epoch 14/50\n",
      "184/184 [==============================] - 4055s 22s/step - loss: 1.0506 - categorical_accuracy: 0.6740 - val_loss: 0.7408 - val_categorical_accuracy: 0.7578\n",
      "Epoch 15/50\n",
      "184/184 [==============================] - 4066s 22s/step - loss: 1.0207 - categorical_accuracy: 0.6734 - val_loss: 0.6913 - val_categorical_accuracy: 0.7673\n",
      "Epoch 16/50\n",
      "184/184 [==============================] - 4050s 22s/step - loss: 0.9771 - categorical_accuracy: 0.6992 - val_loss: 0.6914 - val_categorical_accuracy: 0.7755\n",
      "Epoch 17/50\n",
      "184/184 [==============================] - 4043s 22s/step - loss: 0.9924 - categorical_accuracy: 0.6894 - val_loss: 0.7011 - val_categorical_accuracy: 0.7701\n",
      "Epoch 18/50\n",
      "184/184 [==============================] - 4059s 22s/step - loss: 0.9704 - categorical_accuracy: 0.6885 - val_loss: 0.6684 - val_categorical_accuracy: 0.7701\n",
      "Epoch 19/50\n",
      "184/184 [==============================] - 4056s 22s/step - loss: 0.9405 - categorical_accuracy: 0.6997 - val_loss: 0.6520 - val_categorical_accuracy: 0.7782\n",
      "Epoch 20/50\n",
      "184/184 [==============================] - 4059s 22s/step - loss: 0.9326 - categorical_accuracy: 0.6984 - val_loss: 0.7163 - val_categorical_accuracy: 0.7823\n",
      "Epoch 21/50\n",
      "184/184 [==============================] - 4063s 22s/step - loss: 0.8918 - categorical_accuracy: 0.7088 - val_loss: 0.6542 - val_categorical_accuracy: 0.7769\n",
      "Epoch 22/50\n",
      "184/184 [==============================] - 4060s 22s/step - loss: 0.8915 - categorical_accuracy: 0.7156 - val_loss: 0.6253 - val_categorical_accuracy: 0.8014\n",
      "Epoch 23/50\n",
      "184/184 [==============================] - 4046s 22s/step - loss: 0.8734 - categorical_accuracy: 0.7209 - val_loss: 0.6179 - val_categorical_accuracy: 0.7905\n",
      "Epoch 24/50\n",
      "184/184 [==============================] - 4030s 22s/step - loss: 0.8441 - categorical_accuracy: 0.7266 - val_loss: 0.6904 - val_categorical_accuracy: 0.7837\n",
      "Epoch 25/50\n",
      "184/184 [==============================] - 4035s 22s/step - loss: 0.8702 - categorical_accuracy: 0.7234 - val_loss: 0.6293 - val_categorical_accuracy: 0.8000\n",
      "Epoch 26/50\n",
      "184/184 [==============================] - 4032s 22s/step - loss: 0.8400 - categorical_accuracy: 0.7336 - val_loss: 0.6890 - val_categorical_accuracy: 0.7782\n",
      "Epoch 27/50\n",
      "184/184 [==============================] - 4061s 22s/step - loss: 0.8365 - categorical_accuracy: 0.7312 - val_loss: 0.6427 - val_categorical_accuracy: 0.7918\n",
      "Epoch 28/50\n",
      "184/184 [==============================] - 4049s 22s/step - loss: 0.8086 - categorical_accuracy: 0.7414 - val_loss: 0.6878 - val_categorical_accuracy: 0.7905\n",
      "Epoch 29/50\n",
      "184/184 [==============================] - 4065s 22s/step - loss: 0.8084 - categorical_accuracy: 0.7408 - val_loss: 0.6504 - val_categorical_accuracy: 0.7959\n",
      "Epoch 30/50\n",
      "184/184 [==============================] - 4066s 22s/step - loss: 0.8203 - categorical_accuracy: 0.7382 - val_loss: 0.6366 - val_categorical_accuracy: 0.7986\n",
      "Epoch 31/50\n",
      "184/184 [==============================] - 4046s 22s/step - loss: 0.7678 - categorical_accuracy: 0.7510 - val_loss: 0.5918 - val_categorical_accuracy: 0.8082\n",
      "Epoch 32/50\n",
      "184/184 [==============================] - 4039s 22s/step - loss: 0.7316 - categorical_accuracy: 0.7583 - val_loss: 0.7362 - val_categorical_accuracy: 0.7782\n",
      "Epoch 33/50\n",
      "184/184 [==============================] - 4071s 22s/step - loss: 0.7704 - categorical_accuracy: 0.7486 - val_loss: 0.6463 - val_categorical_accuracy: 0.8014\n",
      "Epoch 34/50\n",
      "184/184 [==============================] - 4041s 22s/step - loss: 0.7484 - categorical_accuracy: 0.7549 - val_loss: 0.6368 - val_categorical_accuracy: 0.7864\n",
      "Epoch 35/50\n",
      "184/184 [==============================] - 4052s 22s/step - loss: 0.7309 - categorical_accuracy: 0.7593 - val_loss: 0.6305 - val_categorical_accuracy: 0.8041\n",
      "Epoch 36/50\n",
      "184/184 [==============================] - 4040s 22s/step - loss: 0.7163 - categorical_accuracy: 0.7641 - val_loss: 0.6828 - val_categorical_accuracy: 0.7905\n",
      "Epoch 37/50\n",
      "184/184 [==============================] - 4042s 22s/step - loss: 0.7174 - categorical_accuracy: 0.7706 - val_loss: 0.6763 - val_categorical_accuracy: 0.7986\n",
      "Epoch 38/50\n",
      "184/184 [==============================] - 14065s 77s/step - loss: 0.7059 - categorical_accuracy: 0.7723 - val_loss: 0.6422 - val_categorical_accuracy: 0.8027\n",
      "Epoch 39/50\n",
      "184/184 [==============================] - 4041s 22s/step - loss: 0.6822 - categorical_accuracy: 0.7828 - val_loss: 0.6850 - val_categorical_accuracy: 0.7986\n",
      "Epoch 40/50\n",
      "184/184 [==============================] - 4067s 22s/step - loss: 0.6723 - categorical_accuracy: 0.7855 - val_loss: 0.6679 - val_categorical_accuracy: 0.7946\n",
      "Epoch 41/50\n",
      "184/184 [==============================] - 4073s 22s/step - loss: 0.7043 - categorical_accuracy: 0.7748 - val_loss: 0.6464 - val_categorical_accuracy: 0.8054\n",
      "Epoch 42/50\n",
      "184/184 [==============================] - 4059s 22s/step - loss: 0.6635 - categorical_accuracy: 0.7906 - val_loss: 0.6290 - val_categorical_accuracy: 0.8190\n",
      "Epoch 43/50\n",
      "184/184 [==============================] - 4066s 22s/step - loss: 0.6710 - categorical_accuracy: 0.7828 - val_loss: 0.6165 - val_categorical_accuracy: 0.8082\n",
      "Epoch 44/50\n",
      "184/184 [==============================] - 4061s 22s/step - loss: 0.6685 - categorical_accuracy: 0.7797 - val_loss: 0.6932 - val_categorical_accuracy: 0.7986\n",
      "Epoch 45/50\n",
      "184/184 [==============================] - 4056s 22s/step - loss: 0.6351 - categorical_accuracy: 0.7940 - val_loss: 0.5889 - val_categorical_accuracy: 0.8082\n",
      "Epoch 46/50\n",
      "184/184 [==============================] - 4047s 22s/step - loss: 0.6363 - categorical_accuracy: 0.7886 - val_loss: 0.7045 - val_categorical_accuracy: 0.7946\n",
      "Epoch 47/50\n",
      "184/184 [==============================] - 4072s 22s/step - loss: 0.6453 - categorical_accuracy: 0.7893 - val_loss: 0.6512 - val_categorical_accuracy: 0.8068\n",
      "Epoch 48/50\n",
      "184/184 [==============================] - 4094s 22s/step - loss: 0.6298 - categorical_accuracy: 0.7935 - val_loss: 0.7729 - val_categorical_accuracy: 0.7823\n",
      "Epoch 49/50\n",
      "184/184 [==============================] - 4060s 22s/step - loss: 0.6115 - categorical_accuracy: 0.8034 - val_loss: 0.6558 - val_categorical_accuracy: 0.7932\n",
      "Epoch 50/50\n",
      "184/184 [==============================] - 4048s 22s/step - loss: 0.6045 - categorical_accuracy: 0.8061 - val_loss: 0.6658 - val_categorical_accuracy: 0.7986\n"
     ]
    },
    {
     "data": {
      "text/plain": [
       "<keras.src.callbacks.History at 0x1d6242fc220>"
      ]
     },
     "execution_count": 53,
     "metadata": {},
     "output_type": "execute_result"
    }
   ],
   "source": [
    "base_model.trainable = True\n",
    "model.summary(show_trainable=True)\n",
    "\n",
    "model.compile(\n",
    "    optimizer=keras.optimizers.Adam(1e-5),  # Low learning rate\n",
    "    loss=\"categorical_crossentropy\",\n",
    "    metrics=[keras.metrics.CategoricalAccuracy()],\n",
    ")\n",
    "\n",
    "epochs = 50\n",
    "print(\"Fitting the end-to-end model\")\n",
    "model.fit(train_generator, epochs=epochs, validation_data=val_generator)"
   ]
  },
  {
   "cell_type": "markdown",
   "id": "9c40e936",
   "metadata": {},
   "source": [
    "### Now we'll adjust the base model weights with very low learning rate as we don't want alter the weights it got from imagenet too much. we started with val_loss: 0.8620 - val_categorical_accuracy: 0.7102 and ended with val_loss: 0.6658 - val_categorical_accuracy: 0.7986 wich is great considering we don't have the sufficient hardware for complex processing ability.  \n",
    "### we did try multiple combination of layers with different number of neutrons using some domain knowledge. But bcoz of huge training time we were unable to perform hyper parameter tuning."
   ]
  },
  {
   "cell_type": "code",
   "execution_count": 54,
   "id": "03ab9a6f",
   "metadata": {},
   "outputs": [
    {
     "name": "stdout",
     "output_type": "stream",
     "text": [
      "Test dataset evaluation\n",
      "733/733 [==============================] - 109s 149ms/step - loss: 0.6603 - categorical_accuracy: 0.8104\n"
     ]
    },
    {
     "data": {
      "text/plain": [
       "[0.6603395342826843, 0.8103683590888977]"
      ]
     },
     "execution_count": 54,
     "metadata": {},
     "output_type": "execute_result"
    }
   ],
   "source": [
    "print(\"Test dataset evaluation\")\n",
    "model.evaluate(test_generator)"
   ]
  },
  {
   "cell_type": "markdown",
   "id": "cb7ecee0",
   "metadata": {},
   "source": [
    "### Test results"
   ]
  },
  {
   "cell_type": "code",
   "execution_count": 55,
   "id": "154c76fb",
   "metadata": {},
   "outputs": [],
   "source": [
    "model.save(\"C:\\\\Users\\\\Dell\\\\Documents\\\\projects\\\\image search engine\\\\img_model360_1final.keras\")"
   ]
  },
  {
   "cell_type": "markdown",
   "id": "5b790a60",
   "metadata": {},
   "source": [
    "#### Saving the final model"
   ]
  },
  {
   "cell_type": "code",
   "execution_count": 75,
   "id": "caddef94",
   "metadata": {},
   "outputs": [
    {
     "name": "stdout",
     "output_type": "stream",
     "text": [
      "733/733 [==============================] - 119s 162ms/step\n"
     ]
    }
   ],
   "source": [
    "predictions=model.predict(test_generator)"
   ]
  },
  {
   "cell_type": "code",
   "execution_count": 77,
   "id": "07f98e44",
   "metadata": {},
   "outputs": [],
   "source": [
    "y_pred = np.rint(predictions)"
   ]
  },
  {
   "cell_type": "code",
   "execution_count": 83,
   "id": "497b4153",
   "metadata": {},
   "outputs": [
    {
     "name": "stdout",
     "output_type": "stream",
     "text": [
      "[0. 0. 1. 0. 0. 0. 0. 0. 0. 0. 0. 0. 0. 0. 0. 0. 0. 0. 0. 0. 0. 0. 0. 0.\n",
      " 0. 0. 0. 0. 0. 0. 0. 0. 0. 0. 0. 0. 0.]\n"
     ]
    }
   ],
   "source": [
    "print(y_pred[])"
   ]
  },
  {
   "cell_type": "code",
   "execution_count": null,
   "id": "4dd5d782",
   "metadata": {},
   "outputs": [],
   "source": []
  },
  {
   "cell_type": "code",
   "execution_count": 37,
   "id": "d76eccf5",
   "metadata": {},
   "outputs": [
    {
     "name": "stdout",
     "output_type": "stream",
     "text": [
      "KerasTensor(type_spec=TensorSpec(shape=(None, 512), dtype=tf.float32, name=None), name='dropout_1/Identity:0', description=\"created by layer 'dropout_1'\")\n"
     ]
    }
   ],
   "source": [
    "print(x)"
   ]
  },
  {
   "cell_type": "code",
   "execution_count": 21,
   "id": "7ee3a59c",
   "metadata": {},
   "outputs": [
    {
     "name": "stdout",
     "output_type": "stream",
     "text": [
      "1/1 [==============================] - 0s 254ms/step\n"
     ]
    }
   ],
   "source": [
    "#some random testing\n",
    "\n",
    "\n",
    "img=Image.open(\"C:\\\\Users\\\\Dell\\\\Documents\\\\projects\\\\image search engine\\\\oxford-iiit-pet\\\\images.tar\\\\images\\\\images\\\\american_pit_bull_terrier_97.jpg\")\n",
    "#img=img.resize(224,224)\n",
    "img = img.resize((224, 224))\n",
    "# Convert the image color space\n",
    "img = img.convert('RGB')\n",
    "# # # Reformat the image\n",
    "img = image.img_to_array(img)\n",
    "img = np.expand_dims(img, axis=0)\n",
    "img = preprocess_input(img)\n",
    "fea=base_model.predict(img)\n",
    "x = keras.layers.GlobalAveragePooling2D()(fea)\n",
    "x = keras.layers.Dropout(0.2)(x)  \n",
    "outputs = keras.layers.Dense(1)(x)\n",
    "model = keras.Model(inputs, outputs)\n",
    "\n",
    "model.summary(show_trainable=True)"
   ]
  },
  {
   "cell_type": "code",
   "execution_count": 26,
   "id": "7d714ae6",
   "metadata": {},
   "outputs": [
    {
     "data": {
      "text/plain": [
       "(1, 7, 7, 512)"
      ]
     },
     "execution_count": 26,
     "metadata": {},
     "output_type": "execute_result"
    }
   ],
   "source": [
    "fea.shape"
   ]
  },
  {
   "cell_type": "code",
   "execution_count": 23,
   "id": "2e01ad60",
   "metadata": {},
   "outputs": [
    {
     "data": {
      "text/plain": [
       "<tf.Tensor: shape=(1, 512), dtype=float32, numpy=\n",
       "array([[2.6796570e+00, 0.0000000e+00, 5.0214291e+00, 2.2768803e+00,\n",
       "        5.9144697e+00, 1.3501382e+00, 2.1654837e+00, 3.6408064e-01,\n",
       "        3.2541311e+00, 2.5748460e+00, 1.1873509e+01, 1.2121794e+00,\n",
       "        6.7951880e+00, 5.1907516e+00, 2.8853548e+00, 5.2441449e+00,\n",
       "        1.6723387e+00, 2.6988816e-01, 2.0325974e-02, 9.2371470e-01,\n",
       "        8.0372256e-01, 8.8719529e-01, 9.3356621e-01, 4.1201520e+00,\n",
       "        6.1037936e+00, 1.2726702e-01, 1.1162183e+00, 7.3147243e-01,\n",
       "        2.4614964e+01, 2.9078398e+00, 1.4383894e+00, 9.7435838e-01,\n",
       "        2.1254482e+00, 4.4116569e+00, 7.4129815e+00, 5.6852090e-01,\n",
       "        1.1219274e+01, 4.4416779e-01, 3.3469326e+00, 1.2927494e+00,\n",
       "        1.1640214e+01, 1.0171223e+01, 1.0356932e+00, 2.3694719e-01,\n",
       "        3.8187263e+00, 2.2734046e+00, 1.2757719e+01, 1.8919638e+00,\n",
       "        7.4232256e-01, 1.7191716e+00, 1.9168786e+00, 3.2091103e-02,\n",
       "        7.1641893e+00, 5.3928103e+00, 8.7730426e-01, 2.9905784e+00,\n",
       "        6.2090273e+00, 7.4615014e-01, 9.3102920e-01, 3.0387902e-01,\n",
       "        0.0000000e+00, 1.1208776e+00, 2.3814240e+00, 8.8347167e-01,\n",
       "        1.2738613e+00, 5.4528012e+00, 4.0294060e-01, 1.0924798e-01,\n",
       "        6.1761298e+00, 1.8227371e+01, 1.6164139e+01, 2.9424713e+00,\n",
       "        1.3972242e+01, 0.0000000e+00, 9.0650749e+00, 0.0000000e+00,\n",
       "        2.3108296e+00, 1.3542252e+00, 2.1575046e+00, 1.5323868e+01,\n",
       "        7.4467912e+00, 2.4850020e+00, 1.3549845e+00, 1.6172415e+01,\n",
       "        9.3926489e-01, 2.1466749e+00, 3.9294544e-01, 1.5046443e+00,\n",
       "        4.3069644e+00, 5.6293291e-01, 3.5811710e+00, 3.9825219e-01,\n",
       "        4.4829679e+00, 3.8112974e+00, 1.7450376e-01, 2.9060814e+00,\n",
       "        7.4919045e-01, 5.2675896e+00, 2.9204855e+00, 4.2703781e+00,\n",
       "        2.1033292e-01, 3.9765058e+00, 7.5494368e-03, 3.6309018e+00,\n",
       "        1.1690709e-01, 1.0134020e+00, 1.5031986e-01, 5.4834676e+00,\n",
       "        5.3853269e+00, 5.3180418e+00, 3.6696937e+00, 8.4846334e+00,\n",
       "        1.9570872e-02, 3.5599782e+00, 1.7946702e+00, 2.5805002e-01,\n",
       "        1.2686543e+01, 1.1819533e+00, 1.0658348e+01, 4.7858667e+00,\n",
       "        9.1858310e-01, 2.9387035e+00, 1.0677230e+00, 1.9626235e+00,\n",
       "        2.7321787e+00, 1.0135179e-01, 7.6110160e-01, 4.3897681e+00,\n",
       "        4.8062820e+00, 4.4117707e-01, 9.5084763e-01, 0.0000000e+00,\n",
       "        8.8756876e+00, 3.0842345e+00, 7.2817898e+00, 0.0000000e+00,\n",
       "        4.5451978e-01, 6.4333558e+00, 2.4193686e-01, 0.0000000e+00,\n",
       "        2.0226529e+00, 5.9604144e+00, 4.3568511e+00, 5.1184402e+00,\n",
       "        5.0459081e-01, 1.0356100e+01, 8.5622311e-01, 0.0000000e+00,\n",
       "        2.6146517e+00, 4.9858828e+00, 6.5760058e-01, 0.0000000e+00,\n",
       "        1.1694775e-01, 1.1572185e+01, 1.0074586e-01, 1.4492835e+01,\n",
       "        0.0000000e+00, 2.0098377e+01, 8.2186760e+01, 3.6812053e+00,\n",
       "        2.4482932e+00, 4.3342909e-01, 0.0000000e+00, 3.0788035e+00,\n",
       "        4.4188476e+00, 1.5141540e+01, 4.1370945e+00, 1.8890420e-01,\n",
       "        0.0000000e+00, 5.0710235e+00, 5.4175985e-01, 0.0000000e+00,\n",
       "        5.4204541e-01, 1.8196477e-01, 0.0000000e+00, 3.7423251e+00,\n",
       "        0.0000000e+00, 2.0884645e+00, 1.4518716e+00, 7.2372622e+00,\n",
       "        2.8324124e-01, 0.0000000e+00, 1.6364421e+00, 3.1082339e+00,\n",
       "        2.4356182e+00, 9.5132656e+00, 0.0000000e+00, 1.3057516e+01,\n",
       "        4.1845447e-01, 0.0000000e+00, 2.2449902e-01, 5.9741988e+00,\n",
       "        2.3603687e+00, 1.4766056e+01, 1.8497450e+00, 2.4206591e+00,\n",
       "        0.0000000e+00, 5.7244901e-02, 0.0000000e+00, 1.0637670e+00,\n",
       "        1.8841957e+01, 1.7794656e+00, 8.1292413e-02, 0.0000000e+00,\n",
       "        1.0898168e+00, 2.8445764e+00, 2.1633184e+00, 1.0494343e-01,\n",
       "        2.1741886e+00, 5.3167486e+00, 4.9929218e+00, 1.5339739e+01,\n",
       "        5.7091899e+00, 1.1581471e+00, 1.1756516e-01, 3.4300861e+00,\n",
       "        1.2748958e-01, 1.1756431e+00, 8.4185696e-01, 2.1078105e-01,\n",
       "        2.6367666e+01, 0.0000000e+00, 5.0243096e+00, 0.0000000e+00,\n",
       "        0.0000000e+00, 3.8730295e+00, 2.5822842e+00, 5.1369017e-01,\n",
       "        8.0186945e-01, 1.4333506e+00, 4.7802329e-01, 4.9903526e+00,\n",
       "        6.2284541e-01, 6.1010367e-01, 2.6602414e+00, 7.2628360e+00,\n",
       "        5.0180802e+00, 5.5606666e+00, 1.7286447e+00, 8.0204659e+00,\n",
       "        2.6424518e+00, 2.1478024e+00, 4.9761319e+00, 3.2502708e+00,\n",
       "        4.4691688e-01, 7.2187567e-01, 9.7208309e-01, 3.8037589e-01,\n",
       "        5.4965115e+00, 1.6572462e+01, 3.2531650e+00, 2.2044761e-01,\n",
       "        1.6632651e+00, 2.0015532e+01, 1.9983414e+00, 0.0000000e+00,\n",
       "        0.0000000e+00, 1.7745482e+00, 1.9768651e+00, 2.7607868e+00,\n",
       "        1.0203865e+01, 5.6052680e+00, 1.6036031e+00, 9.8335342e+00,\n",
       "        3.3813646e-01, 5.5565348e+00, 1.1723983e+00, 2.8791904e+00,\n",
       "        1.1842260e+01, 1.5295993e+01, 1.1241434e+00, 4.6899018e+00,\n",
       "        3.9239717e+00, 3.0688283e+00, 1.2329890e+01, 1.0222661e+00,\n",
       "        2.3388761e-01, 8.7002020e+00, 3.3031046e-01, 6.2219477e-01,\n",
       "        0.0000000e+00, 1.7736869e+00, 4.6338007e-01, 3.6097565e+00,\n",
       "        3.6311674e+00, 1.8526096e+00, 8.0520983e+00, 1.6470712e+00,\n",
       "        2.2705662e-01, 4.0851414e-01, 1.0767610e+00, 4.2540765e+00,\n",
       "        6.1369061e-01, 8.4187782e-01, 2.3755715e+00, 0.0000000e+00,\n",
       "        3.6308691e-01, 0.0000000e+00, 2.6658170e+00, 3.6041996e-01,\n",
       "        6.6503352e-01, 2.3589964e+00, 1.7050455e+00, 6.4883451e-03,\n",
       "        2.5753872e-02, 0.0000000e+00, 0.0000000e+00, 6.2434828e-01,\n",
       "        2.1249702e+00, 0.0000000e+00, 8.0070505e+00, 3.7754861e-01,\n",
       "        0.0000000e+00, 1.1181940e+00, 1.7204304e+01, 1.3988969e+00,\n",
       "        1.3786920e+00, 1.4674425e+00, 0.0000000e+00, 1.9055374e+00,\n",
       "        4.1777129e+00, 2.4867754e+00, 4.0022664e+00, 5.0260239e+00,\n",
       "        0.0000000e+00, 4.0094113e+00, 4.3329167e+00, 0.0000000e+00,\n",
       "        1.0206875e+00, 1.7629921e-01, 1.6291299e+00, 2.0244718e+00,\n",
       "        1.2010652e+00, 2.9601550e-01, 1.2525142e+01, 0.0000000e+00,\n",
       "        2.3181815e+00, 8.5732329e-01, 1.3447350e+00, 1.0479723e+01,\n",
       "        2.0184743e+00, 1.4149038e+00, 2.7093405e-01, 2.1448839e+00,\n",
       "        6.4091597e+00, 0.0000000e+00, 2.1730328e+00, 6.1183006e-01,\n",
       "        7.0230834e-02, 1.7788415e+00, 7.4701044e-03, 1.3098914e+01,\n",
       "        0.0000000e+00, 1.0110940e+00, 2.9731586e+00, 3.8661156e+00,\n",
       "        2.5672266e-01, 1.8308060e-01, 0.0000000e+00, 1.5683002e+00,\n",
       "        0.0000000e+00, 1.8579098e+00, 5.1627679e+00, 1.2755505e+00,\n",
       "        1.1993629e+00, 2.3883753e+00, 0.0000000e+00, 4.7570372e-01,\n",
       "        2.3064504e+00, 3.9163430e+00, 1.5660672e+01, 0.0000000e+00,\n",
       "        9.5271845e+00, 1.5308197e+00, 2.2486444e+00, 2.6174333e+00,\n",
       "        2.6703762e-02, 5.8297105e+00, 0.0000000e+00, 2.0790832e+00,\n",
       "        2.4521284e+00, 1.1294247e+00, 1.5410893e-01, 7.3680596e+00,\n",
       "        8.8409558e-02, 3.7370379e+00, 2.3665455e-01, 7.7240334e+00,\n",
       "        1.2471550e+01, 0.0000000e+00, 7.4109972e-02, 4.9547210e+00,\n",
       "        9.8068297e-01, 1.0543302e-01, 0.0000000e+00, 6.6895969e-02,\n",
       "        3.2455951e-02, 7.8428066e-01, 1.5370651e+00, 1.8728368e+00,\n",
       "        1.2367913e+01, 6.3154787e-01, 4.8892088e+00, 0.0000000e+00,\n",
       "        2.6908376e+00, 1.6874368e+00, 5.0472569e-01, 4.2779069e+00,\n",
       "        9.4166023e-01, 1.7741629e+01, 1.0282798e+00, 1.3037069e+01,\n",
       "        3.4467385e+00, 9.9590725e-01, 3.1697757e+00, 0.0000000e+00,\n",
       "        3.5161324e-02, 1.0268835e+00, 2.6076677e+00, 2.1596823e-03,\n",
       "        8.9981489e+00, 7.2426915e+00, 1.9527138e+00, 2.1994091e+01,\n",
       "        1.2634131e+00, 1.6635184e+00, 3.8974109e+00, 0.0000000e+00,\n",
       "        2.0470736e+00, 0.0000000e+00, 4.1024032e+00, 1.4647220e+00,\n",
       "        9.5568142e+00, 2.6518776e+01, 5.7928691e+00, 5.8468261e+00,\n",
       "        8.4867153e+00, 4.4967106e+01, 1.7259487e+00, 1.0198888e+00,\n",
       "        1.0365467e+00, 2.6454294e+00, 1.4409261e+00, 1.2834395e+00,\n",
       "        3.3557670e+00, 6.8736610e+00, 4.6672664e+00, 5.5862403e-01,\n",
       "        9.3479002e-01, 1.3046252e+00, 4.2134156e+00, 7.0078201e+00,\n",
       "        0.0000000e+00, 1.0455427e+00, 4.7046261e+00, 6.7540870e+00,\n",
       "        6.6782254e-01, 5.3396678e-01, 5.3553324e+00, 2.9344869e+00,\n",
       "        5.0318483e-02, 1.1162319e+00, 1.0247629e+01, 5.7780013e+00,\n",
       "        1.9731767e-01, 1.9785904e+01, 1.4832238e+01, 3.3340991e+00,\n",
       "        2.4081056e+00, 7.4540243e+00, 2.6988950e+00, 1.6832125e+01,\n",
       "        1.7464423e+00, 2.6099131e+01, 1.7320839e+01, 2.3409710e+00,\n",
       "        1.0386046e+01, 6.8909593e+00, 5.9255175e-02, 0.0000000e+00,\n",
       "        9.5941389e-01, 8.5076790e+00, 9.3512946e-01, 3.8514822e+00,\n",
       "        7.1944356e-02, 1.7410989e-01, 2.0625589e+00, 1.2035737e+01,\n",
       "        1.3689108e+00, 4.6058211e+00, 2.5400981e-01, 7.8096738e+00,\n",
       "        0.0000000e+00, 1.2828765e+01, 8.9292994e+00, 4.5688219e+00,\n",
       "        4.6359177e+00, 2.8229367e-03, 2.4557915e+00, 1.3410941e+00,\n",
       "        3.3216169e+00, 3.2628947e-01, 0.0000000e+00, 2.6531702e-01,\n",
       "        2.3790126e+00, 2.0558012e+00, 5.9321494e+00, 1.3535537e+00,\n",
       "        2.2385027e-01, 2.8947697e+00, 1.5053406e+00, 5.0400414e+00]],\n",
       "      dtype=float32)>"
      ]
     },
     "execution_count": 23,
     "metadata": {},
     "output_type": "execute_result"
    }
   ],
   "source": [
    "x"
   ]
  },
  {
   "cell_type": "code",
   "execution_count": 27,
   "id": "e4da3555",
   "metadata": {},
   "outputs": [
    {
     "data": {
      "text/plain": [
       "TensorShape([1, 512])"
      ]
     },
     "execution_count": 27,
     "metadata": {},
     "output_type": "execute_result"
    }
   ],
   "source": [
    "x.shape"
   ]
  },
  {
   "cell_type": "code",
   "execution_count": 28,
   "id": "0d201864",
   "metadata": {},
   "outputs": [],
   "source": [
    "#testing end"
   ]
  },
  {
   "cell_type": "markdown",
   "id": "a19aa9d4",
   "metadata": {},
   "source": [
    "### Example (testing with a sample image)"
   ]
  },
  {
   "cell_type": "code",
   "execution_count": null,
   "id": "cd115a55",
   "metadata": {},
   "outputs": [],
   "source": [
    "#1\n",
    "model1=keras.models.load_model(\"C:\\\\Users\\\\Dell\\\\Documents\\\\projects\\\\image search engine\\\\img_model360_1final.keras\")"
   ]
  },
  {
   "cell_type": "code",
   "execution_count": null,
   "id": "e59d3ee9",
   "metadata": {},
   "outputs": [],
   "source": [
    "#2\n",
    "model1=keras.saving.load_model(\"C:\\\\Users\\\\Dell\\\\Documents\\\\projects\\\\image search engine\\\\img_model360_1final.keras\")"
   ]
  },
  {
   "cell_type": "code",
   "execution_count": 313,
   "id": "d8076c0f",
   "metadata": {},
   "outputs": [
    {
     "name": "stdout",
     "output_type": "stream",
     "text": [
      "1/1 [==============================] - 0s 136ms/step\n"
     ]
    }
   ],
   "source": [
    "img=Image.open(\"C:\\\\Users\\\\Dell\\\\Documents\\\\projects\\\\image search engine\\\\oxford-iiit-pet\\\\images.tar\\\\images\\\\images\\\\american_bulldog_78.jpg\")\n",
    "img = img.resize((224, 224))\n",
    "img = img.convert('RGB')\n",
    "# # # Reformat the image\n",
    "img = image.img_to_array(img)\n",
    "img = np.expand_dims(img, axis=0)\n",
    "img = preprocess_input(img)\n",
    "a=model1.predict(img)"
   ]
  },
  {
   "cell_type": "code",
   "execution_count": 314,
   "id": "1815efd7",
   "metadata": {},
   "outputs": [
    {
     "data": {
      "text/plain": [
       "array([[4.1175182e-15, 9.5238996e-01, 4.8162153e-08, 1.1638653e-15,\n",
       "        7.9612373e-06, 4.1725457e-06, 7.8631608e-08, 4.6858513e-06,\n",
       "        7.5372841e-13, 1.4013742e-08, 1.5929876e-17, 1.7887800e-10,\n",
       "        4.8810891e-03, 1.2372130e-16, 9.8154984e-10, 2.1956817e-16,\n",
       "        4.3476377e-23, 7.5757061e-14, 5.2479369e-04, 1.8927030e-15,\n",
       "        1.6793585e-14, 3.1410184e-02, 2.0921407e-11, 4.0804065e-04,\n",
       "        4.7115127e-14, 2.0337441e-06, 5.2410619e-12, 4.5276316e-10,\n",
       "        5.1428471e-03, 1.8079931e-09, 7.3156143e-15, 1.1190661e-03,\n",
       "        1.4038112e-12, 1.6714974e-14, 1.0522134e-18, 4.1050469e-03,\n",
       "        5.2652635e-14]], dtype=float32)"
      ]
     },
     "execution_count": 314,
     "metadata": {},
     "output_type": "execute_result"
    }
   ],
   "source": [
    "a"
   ]
  },
  {
   "cell_type": "code",
   "execution_count": 315,
   "id": "775b1f03",
   "metadata": {},
   "outputs": [
    {
     "data": {
      "text/plain": [
       "[array([0., 1., 0., 0., 0., 0., 0., 0., 0., 0., 0., 0., 0., 0., 0., 0., 0.,\n",
       "        0., 0., 0., 0., 0., 0., 0., 0., 0., 0., 0., 0., 0., 0., 0., 0., 0.,\n",
       "        0., 0., 0.], dtype=float32)]"
      ]
     },
     "execution_count": 315,
     "metadata": {},
     "output_type": "execute_result"
    }
   ],
   "source": [
    "p=np.rint(a)\n",
    "p=list(p)\n",
    "p"
   ]
  },
  {
   "cell_type": "code",
   "execution_count": 316,
   "id": "9b0db107",
   "metadata": {},
   "outputs": [],
   "source": [
    "classes={'abyssinian':[[1., 0., 0., 0., 0., 0., 0., 0., 0., 0., 0., 0., 0., 0., 0., 0.,\n",
    "        0., 0., 0., 0., 0., 0., 0., 0., 0., 0., 0., 0., 0., 0., 0., 0.,\n",
    "        0., 0., 0., 0., 0.]],\n",
    "        'american_bulldog':[[0., 1., 0., 0., 0., 0., 0., 0., 0., 0., 0., 0., 0., 0., 0., 0.,\n",
    "        0., 0., 0., 0., 0., 0., 0., 0., 0., 0., 0., 0., 0., 0., 0., 0.,\n",
    "        0., 0., 0., 0., 0.]],\n",
    "        'american_pitbull_terrier':\n",
    "         [[0., 0., 0., 0., 0., 0., 0., 0., 0., 0., 0., 0., 1., 0., 0., 0.,\n",
    "        0., 0., 0., 0., 0., 0., 0., 0., 0., 0., 0., 0., 0., 0., 0., 0.,\n",
    "        0., 0., 0., 0., 0.]],\n",
    "        'basset_hound':\n",
    "         [[0., 0., 0., 0., 0., 0., 0., 0., 0., 0., 0., 0., 0., 0., 0., 0.,\n",
    "        0., 0., 0., 0., 0., 0., 1., 0., 0., 0., 0., 0., 0., 0., 0., 0.,\n",
    "        0., 0., 0., 0., 0.]],\n",
    "        'beagle':\n",
    "         [[0., 0., 0., 0., 0., 0., 0., 0., 0., 0., 0., 0., 0., 0., 0., 0.,\n",
    "        0., 0., 0., 0., 0., 0., 0., 0., 0., 0., 0., 0., 0., 0., 0., 1.,\n",
    "        0., 0., 0., 0., 0.]],\n",
    "        'bengal':\n",
    "         [[0., 0., 0., 0., 0., 0., 0., 0., 0., 0., 0., 0., 0., 0., 0., 0.,\n",
    "        0., 0., 0., 0., 0., 0., 0., 0., 0., 0., 0., 0., 0., 0., 0., 0.,\n",
    "        1., 0., 0., 0., 0.]],\n",
    "        'birman':[[0., 0., 0., 0., 0., 0., 0., 0., 0., 0., 0., 0., 0., 0., 0., 0.,\n",
    "        0., 0., 0., 0., 0., 0., 0., 0., 0., 0., 0., 0., 0., 0., 0., 0.,\n",
    "        0., 1., 0., 0., 0.]],\n",
    "        'bombay':[[0., 0., 0., 0., 0., 0., 0., 0., 0., 0., 0., 0., 0., 0., 0., 0.,\n",
    "        0., 0., 0., 0., 0., 0., 0., 0., 0., 0., 0., 0., 0., 0., 0., 0.,\n",
    "        0., 0., 1., 0., 0.]],\n",
    "        'boxer':[[0., 0., 0., 0., 0., 0., 0., 0., 0., 0., 0., 0., 0., 0., 0., 0.,\n",
    "        0., 0., 0., 0., 0., 0., 0., 0., 0., 0., 0., 0., 0., 0., 0., 0.,\n",
    "        0., 0., 0., 1., 0.]],\n",
    "        'british_short_hair':[[0., 0., 0., 0., 0., 0., 0., 0., 0., 0., 0., 0., 0., 0., 0., 0.,\n",
    "        0., 0., 0., 0., 0., 0., 0., 0., 0., 0., 0., 0., 0., 0., 0., 0.,\n",
    "        0., 0., 0., 0., 1.]],\n",
    "        'chihuaua':\n",
    "         [[0., 0., 1., 0., 0., 0., 0., 0., 0., 0., 0., 0., 0., 0., 0., 0.,\n",
    "        0., 0., 0., 0., 0., 0., 0., 0., 0., 0., 0., 0., 0., 0., 0., 0.,\n",
    "        0., 0., 0., 0., 0.]],\n",
    "        'egyptian_mau':              \n",
    "         [[0., 0., 0., 1., 0., 0., 0., 0., 0., 0., 0., 0., 0., 0., 0., 0.,\n",
    "        0., 0., 0., 0., 0., 0., 0., 0., 0., 0., 0., 0., 0., 0., 0., 0.,\n",
    "        0., 0., 0., 0., 0.]],\n",
    "        'english_cocker_spaniel':\n",
    "         [[0., 0., 0., 0., 1., 0., 0., 0., 0., 0., 0., 0., 0., 0., 0., 0.,\n",
    "        0., 0., 0., 0., 0., 0., 0., 0., 0., 0., 0., 0., 0., 0., 0., 0.,\n",
    "        0., 0., 0., 0., 0.]],\n",
    "        'english_setter':\n",
    "         [[0., 0., 0., 0., 0., 1., 0., 0., 0., 0., 0., 0., 0., 0., 0., 0.,\n",
    "        0., 0., 0., 0., 0., 0., 0., 0., 0., 0., 0., 0., 0., 0., 0., 0.,\n",
    "        0., 0., 0., 0., 0.]],\n",
    "         'german_shorthair':\n",
    "         [[0., 0., 0., 0., 0., 0., 1., 0., 0., 0., 0., 0., 0., 0., 0., 0.,\n",
    "        0., 0., 0., 0., 0., 0., 0., 0., 0., 0., 0., 0., 0., 0., 0., 0.,\n",
    "        0., 0., 0., 0., 0.]],\n",
    "         'great_pyrenees':\n",
    "         [[0., 0., 0., 0., 0., 0., 0., 1., 0., 0., 0., 0., 0., 0., 0., 0.,\n",
    "        0., 0., 0., 0., 0., 0., 0., 0., 0., 0., 0., 0., 0., 0., 0., 0.,\n",
    "        0., 0., 0., 0., 0.]],\n",
    "        'havanese':\n",
    "         [[0., 0., 0., 0., 0., 0., 0., 0., 1., 0., 0., 0., 0., 0., 0., 0.,\n",
    "        0., 0., 0., 0., 0., 0., 0., 0., 0., 0., 0., 0., 0., 0., 0., 0.,\n",
    "        0., 0., 0., 0., 0.]],\n",
    "        \n",
    "        'japanese_chin':\n",
    "         [[0., 0., 0., 0., 0., 0., 0., 0., 0., 1., 0., 0., 0., 0., 0., 0.,\n",
    "        0., 0., 0., 0., 0., 0., 0., 0., 0., 0., 0., 0., 0., 0., 0., 0.,\n",
    "        0., 0., 0., 0., 0.]],\n",
    "        'keeshond':\n",
    "         [[0., 0., 0., 0., 0., 0., 0., 0., 0., 0., 1., 0., 0., 0., 0., 0.,\n",
    "        0., 0., 0., 0., 0., 0., 0., 0., 0., 0., 0., 0., 0., 0., 0., 0.,\n",
    "        0., 0., 0., 0., 0.]],\n",
    "        'leonberger':\n",
    "         [[0., 0., 0., 0., 0., 0., 0., 0., 0., 0., 0., 1., 0., 0., 0., 0.,\n",
    "        0., 0., 0., 0., 0., 0., 0., 0., 0., 0., 0., 0., 0., 0., 0., 0.,\n",
    "        0., 0., 0., 0., 0.]],\n",
    "        'maine_coon':\n",
    "         [[0., 0., 0., 0., 0., 0., 0., 0., 0., 0., 0., 0., 0., 1., 0., 0.,\n",
    "        0., 0., 0., 0., 0., 0., 0., 0., 0., 0., 0., 0., 0., 0., 0., 0.,\n",
    "        0., 0., 0., 0., 0.]],\n",
    "        'miniature_pinsch':\n",
    "         [[0., 0., 0., 0., 0., 0., 0., 0., 0., 0., 0., 0., 0., 0., 1., 0.,\n",
    "        0., 0., 0., 0., 0., 0., 0., 0., 0., 0., 0., 0., 0., 0., 0., 0.,\n",
    "        0., 0., 0., 0., 0.]],\n",
    "        'newfoundland':\n",
    "         [[0., 0., 0., 0., 0., 0., 0., 0., 0., 0., 0., 0., 0., 0., 0., 1.,\n",
    "        0., 0., 0., 0., 0., 0., 0., 0., 0., 0., 0., 0., 0., 0., 0., 0.,\n",
    "        0., 0., 0., 0., 0.]],\n",
    "        'persian':\n",
    "         [[0., 0., 0., 0., 0., 0., 0., 0., 0., 0., 0., 0., 0., 0., 0., 0.,\n",
    "        1., 0., 0., 0., 0., 0., 0., 0., 0., 0., 0., 0., 0., 0., 0., 0.,\n",
    "        0., 0., 0., 0., 0.]],\n",
    "        'pomerenian':\n",
    "         [[0., 0., 0., 0., 0., 0., 0., 0., 0., 0., 0., 0., 0., 0., 0., 0.,\n",
    "        0., 1., 0., 0., 0., 0., 0., 0., 0., 0., 0., 0., 0., 0., 0., 0.,\n",
    "        0., 0., 0., 0., 0.]],\n",
    "        'pug':\n",
    "         [[0., 0., 0., 0., 0., 0., 0., 0., 0., 0., 0., 0., 0., 0., 0., 0.,\n",
    "        0., 0., 1., 0., 0., 0., 0., 0., 0., 0., 0., 0., 0., 0., 0., 0.,\n",
    "        0., 0., 0., 0., 0.]],\n",
    "        'ragdoll':\n",
    "         [[0., 0., 0., 0., 0., 0., 0., 0., 0., 0., 0., 0., 0., 0., 0., 0.,\n",
    "        0., 0., 0., 1., 0., 0., 0., 0., 0., 0., 0., 0., 0., 0., 0., 0.,\n",
    "        0., 0., 0., 0., 0.]],\n",
    "        'russian_blue':\n",
    "         [[0., 0., 0., 0., 0., 0., 0., 0., 0., 0., 0., 0., 0., 0., 0., 0.,\n",
    "        0., 0., 0., 0., 1., 0., 0., 0., 0., 0., 0., 0., 0., 0., 0., 0.,\n",
    "        0., 0., 0., 0., 0.]],\n",
    "        'saint_bernard':\n",
    "         [[0., 0., 0., 0., 0., 0., 0., 0., 0., 0., 0., 0., 0., 0., 0., 0.,\n",
    "        0., 0., 0., 0., 0., 1., 0., 0., 0., 0., 0., 0., 1., 0., 0., 0.,\n",
    "        0., 0., 0., 0., 0.]],\n",
    "        'samoyed':\n",
    "         [[0., 0., 0., 0., 0., 0., 0., 0., 0., 0., 0., 0., 0., 0., 0., 0.,\n",
    "        0., 0., 0., 0., 0., 0., 1., 0., 0., 0., 0., 0., 0., 0., 0., 0.,\n",
    "        0., 0., 0., 0., 0.]],\n",
    "        'scottish_terrier':\n",
    "         [[0., 0., 0., 0., 0., 0., 0., 0., 0., 0., 0., 0., 0., 0., 0., 0.,\n",
    "        0., 0., 0., 0., 0., 0., 0., 0., 1., 0., 0., 0., 0., 0., 0., 0.,\n",
    "        0., 0., 0., 0., 0.]],\n",
    "        'shiba_inu':\n",
    "         [[0., 0., 0., 0., 0., 0., 0., 0., 0., 0., 0., 0., 0., 0., 0., 0.,\n",
    "        0., 0., 0., 0., 0., 0., 0., 0., 0., 1., 0., 0., 0., 0., 0., 0.,\n",
    "        0., 0., 0., 0., 0.]],\n",
    "        'siamese':\n",
    "         [[0., 0., 0., 0., 0., 0., 0., 0., 0., 0., 0., 0., 0., 0., 0., 0.,\n",
    "        0., 0., 0., 0., 0., 0., 0., 0., 0., 0., 1., 0., 0., 0., 0., 0.,\n",
    "        0., 0., 0., 0., 0.]],\n",
    "        'sphynx':\n",
    "         [[0., 0., 0., 0., 0., 0., 0., 0., 0., 0., 0., 0., 0., 0., 0., 0.,\n",
    "        0., 0., 0., 0., 0., 0., 0., 0., 0., 0., 0., 1., 0., 0., 0., 0.,\n",
    "        0., 0., 0., 0., 0.]],\n",
    "        'staffordshire_bullterrier':\n",
    "         [[0., 0., 0., 0., 0., 0., 0., 0., 0., 0., 0., 0., 0., 0., 0., 0.,\n",
    "        0., 0., 0., 0., 0., 0., 0., 0., 0., 0., 0., 0., 1., 0., 0., 0.,\n",
    "        0., 0., 0., 0., 0.]],\n",
    "        'wheten_terrier':\n",
    "         [[0., 0., 0., 0., 0., 0., 0., 0., 0., 0., 0., 0., 0., 0., 0., 0.,\n",
    "        0., 0., 0., 0., 0., 0., 0., 0., 0., 0., 0., 0., 0., 1., 0., 0.,\n",
    "        0., 0., 0., 0., 0.]],\n",
    "        'yorkshire_terrier':\n",
    "         [[0., 0., 0., 0., 0., 0., 0., 0., 0., 0., 0., 0., 0., 0., 0., 0.,\n",
    "        0., 0., 0., 0., 0., 0., 0., 0., 0., 0., 0., 0., 0., 0., 1., 0.,\n",
    "        0., 0., 0., 0., 0.]]}\n",
    "        \n",
    "       "
   ]
  },
  {
   "cell_type": "code",
   "execution_count": 317,
   "id": "5980303e",
   "metadata": {},
   "outputs": [
    {
     "name": "stdout",
     "output_type": "stream",
     "text": [
      "american_bulldog\n"
     ]
    }
   ],
   "source": [
    "ind=list(p[0]).index(1)\n",
    "for k in classes:\n",
    "        ind=list(p[0]).index(1)\n",
    "        val=list(classes[k][0]).index(1)\n",
    "        if val==ind:\n",
    "            print(k)\n",
    "            break"
   ]
  },
  {
   "cell_type": "markdown",
   "id": "4d7bbaeb",
   "metadata": {},
   "source": [
    "#### The model is working fine"
   ]
  },
  {
   "cell_type": "code",
   "execution_count": null,
   "id": "750775c1",
   "metadata": {},
   "outputs": [],
   "source": []
  }
 ],
 "metadata": {
  "kernelspec": {
   "display_name": "Python 3 (ipykernel)",
   "language": "python",
   "name": "python3"
  },
  "language_info": {
   "codemirror_mode": {
    "name": "ipython",
    "version": 3
   },
   "file_extension": ".py",
   "mimetype": "text/x-python",
   "name": "python",
   "nbconvert_exporter": "python",
   "pygments_lexer": "ipython3",
   "version": "3.10.13"
  }
 },
 "nbformat": 4,
 "nbformat_minor": 5
}
